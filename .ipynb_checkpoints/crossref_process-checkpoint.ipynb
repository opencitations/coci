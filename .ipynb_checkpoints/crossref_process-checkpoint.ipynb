{
 "cells": [
  {
   "cell_type": "code",
   "execution_count": 64,
   "metadata": {
    "collapsed": true
   },
   "outputs": [],
   "source": [
    "from requests.exceptions import ReadTimeout, ConnectTimeout\n",
    "import json\n",
    "import requests\n",
    "import sys\n",
    "import urllib.parse\n",
    "import datetime\n",
    "import csv\n",
    "\n",
    "CROSSREF_CODE = '020'\n",
    "LOOKUP_PATH = 'lookup.csv'\n",
    "MIN_SCORE = 75\n",
    "crossref_api = {\n",
    "    'free_text' : 'http://api.crossref.org/works?rows=1&query=',\n",
    "    'doi' : 'http://api.crossref.org/works/'\n",
    "}\n",
    "\n",
    "lookup_dic = {}"
   ]
  },
  {
   "cell_type": "code",
   "execution_count": null,
   "metadata": {
    "collapsed": true
   },
   "outputs": [],
   "source": [
    "#build a bib citation with all the available info inside the reference object \n",
    "def build_bibc(obj):\n",
    "    \n",
    "    if 'unstructured' in obj:\n",
    "        return obj['unstructured']\n",
    "    else:\n",
    "        #all att values are already in string format\n",
    "        bibc = \"\"\n",
    "        strspan= \" \"\n",
    "        if 'author' in obj:\n",
    "            bibc = bibc + obj['author'] + strspan          \n",
    "        if 'year' in obj:\n",
    "            bibc = bibc + obj['year'] + strspan\n",
    "        if 'article-title' in obj:\n",
    "            bibc = bibc + obj['article-title'] + strspan\n",
    "        if 'volume-title' in obj:\n",
    "            bibc = bibc + obj['volume-title'] + strspan\n",
    "        if 'journal-title' in obj:\n",
    "            bibc = bibc + obj['journal-title'] + strspan\n",
    "        if 'volume' in obj:\n",
    "            bibc = bibc + obj['volume'] + strspan\n",
    "        if 'first-page' in obj:\n",
    "            bibc = bibc + obj['first-page'] + strspan\n",
    "        if 'last-page' in obj:\n",
    "            bibc = bibc + obj['last-page'] + strspan\n",
    "        return bibc"
   ]
  },
  {
   "cell_type": "code",
   "execution_count": null,
   "metadata": {
    "collapsed": true
   },
   "outputs": [],
   "source": [
    "            \n",
    "\n",
    "#call crossref with the corresponding crossref_api[query_type] and the query_text \n",
    "def get_data(query_text, is_json = True, query_type = \"free_text\"):\n",
    "    api_url = crossref_api[query_type]\n",
    "    errors = []\n",
    "    try:\n",
    "        api_call = api_url + urllib.parse.quote_plus(query_text)\n",
    "        print(api_call)\n",
    "        response = requests.get(api_call)\n",
    "        if response.status_code == 200:\n",
    "            if is_json:\n",
    "                 return json.loads(response.text)\n",
    "            else:\n",
    "                return response.text\n",
    "        else:\n",
    "            errors.append(\"HTTP error on data retrieving (HTTP status code: %s).\" % str(response.status_code))\n",
    "\n",
    "    except ReadTimeout as e:\n",
    "        errors.append(\"A timeout error happened when reading results from the API when retrieving data. %s\" % e) \n",
    "    except ConnectTimeout as e:\n",
    "        errors.append(\"A timeout error happened when connecting to the API when retrieving data. %s\" % e) \n",
    "    except Exception as e:\n",
    "        errors.append(\"A generic error happened when trying to use the API when retrieving data. %s\" % sys.exc_info()[0]) \n",
    "    \n",
    "    return errors \n",
    "  "
   ]
  },
  {
   "cell_type": "code",
   "execution_count": null,
   "metadata": {
    "collapsed": true
   },
   "outputs": [],
   "source": [
    "#generate the publication-date of a given crossref work object\n",
    "def gen_pubdate(obj):\n",
    "    if 'issued' in obj:\n",
    "        if 'date-parts' in obj['issued']:\n",
    "            #is an array of parts of dates\n",
    "            try:\n",
    "                obj_date = obj['issued']['date-parts'][0]\n",
    "                \n",
    "                #lisdate[year,month,day]\n",
    "                listdate = [1,1,1]\n",
    "                for i in range(0,len(obj_date)):\n",
    "                    listdate[i] = obj_date[i]\n",
    "                    \n",
    "                #I have a date i generate it\n",
    "                if (listdate[0] != 1):\n",
    "                    date_val = datetime.date(listdate[0], listdate[1], listdate[2])\n",
    "                    date_in_str = date_val.strftime('%Y-%m-%d')\n",
    "                    return date_in_str\n",
    "                \n",
    "            except IndexError:\n",
    "                pass\n",
    "    return -1\n",
    " "
   ]
  },
  {
   "cell_type": "code",
   "execution_count": null,
   "metadata": {
    "collapsed": true
   },
   "outputs": [],
   "source": [
    "       \n",
    "# given a textual input (query_txt), call crossref and retrieves the work object of \n",
    "# the best scoring result in case the score is higher than MIN_SCORE\n",
    "def find_work(query_txt):\n",
    "    #call cross ref \n",
    "    res = get_data(query_txt)\n",
    "    #crossref first and only result with higher score\n",
    "    work_item = res['message']['items'][0]\n",
    "    \n",
    "    if \"score\" in work_item:\n",
    "        if work_item[\"score\"] > MIN_SCORE:\n",
    "            #check if the work got a DOI\n",
    "            if \"DOI\" in work_item:\n",
    "                return work_item\n",
    "            else:\n",
    "                return -1\n",
    "        return \"low score\"\n",
    "    return -1\n",
    "    "
   ]
  },
  {
   "cell_type": "code",
   "execution_count": 127,
   "metadata": {
    "collapsed": false
   },
   "outputs": [],
   "source": [
    "    \n",
    "#given a crossref object get all the COCI data needed and generate the csv files\n",
    "def process_cr_obj(obj):\n",
    "        \n",
    "    #check if obj have a DOI if not call crossref\n",
    "    if \"DOI\" not in obj :\n",
    "        query_text = build_bibc(obj)\n",
    "        obj = find_work(query_text)\n",
    "    \n",
    "    #the doi of my object\n",
    "    obj_doi = obj[\"DOI\"]\n",
    "    \n",
    "    #check if obj have a publcation date, in case it's NO\n",
    "    #call crossref with its DOI\n",
    "    pub_date = gen_pubdate(obj)\n",
    "    if pub_date == -1 :\n",
    "        obj = get_data(obj_doi, query_type = \"doi\")\n",
    "        \n",
    "    #at this point I have the object and all the data needed\n",
    "    #Build all the csv files\n",
    "    "
   ]
  },
  {
   "cell_type": "code",
   "execution_count": 65,
   "metadata": {
    "collapsed": false
   },
   "outputs": [],
   "source": [
    "#init the lookup_dic by the contents of its corresponding csv\n",
    "def init_lookup_dic():\n",
    "    with open(LOOKUP_PATH,'r') as lookupcsv:\n",
    "        lookupcsv_reader = csv.DictReader(lookupcsv)\n",
    "        for row in lookupcsv_reader:\n",
    "            lookup_dic[row['c']] = row['code']\n",
    "            \n",
    "#write a new lookup entry inside the csv, (Char,Code)\n",
    "def write_new_lookup_val(c,code):\n",
    "    with open(LOOKUP_PATH, 'wb') as lookupcsv:\n",
    "        lookupwriter = csv.writer(lookupcsv)\n",
    "        lookupwriter.writerow([c,code])\n"
   ]
  },
  {
   "cell_type": "code",
   "execution_count": 62,
   "metadata": {
    "collapsed": false
   },
   "outputs": [],
   "source": [
    "#update lookup dictionary and update its corresponding csv\n",
    "def update_lookup(c):\n",
    "    #define the code according following the 9 rule ... \n",
    "    code = len(lookup_dic)    \n",
    "    lookup_dic[c] = code\n",
    "    write_new_lookup_val(c,code)\n",
    "    \n",
    "#convert a crossref doi into a citation identifier     \n",
    "def convert_doi_to_ci(doi_str):\n",
    "    return CROSSREF_CODE + match_str_to_lookup(doi_str)\n",
    "   \n",
    "#convert a giving string in its corresponding ci format\n",
    "#using the lookup file\n",
    "def match_str_to_lookup(str_val):\n",
    "    ci_str = \"\"\n",
    "    for c in str_val:\n",
    "        if c not in lookup_dic:\n",
    "            update_lookup(c)\n",
    "        ci_str = ci_str + str(lookup_dic[c])\n",
    "    return ci_str\n",
    "            \n",
    "    "
   ]
  },
  {
   "cell_type": "code",
   "execution_count": 126,
   "metadata": {
    "collapsed": false
   },
   "outputs": [
    {
     "name": "stdout",
     "output_type": "stream",
     "text": [
      "http://api.crossref.org/works?rows=1&query=Constantin%2C+A.%2C+Peroni%2C+S.%2C+Pettifer%2C+S.%2C+Shotton%2C+D.%2C+Vitali%2C+F.+%28in+press%29.+The+Document+Components+Ontology+%28DoCO%29.+To+appear+in+Semantic+Web+%E2%80%93+Interoperability%2C+Usability%2C+Applicability.+Amsterdam%2C+The+Netherlands%3A+IOS+Press.\n"
     ]
    },
    {
     "data": {
      "text/plain": [
       "'10.3233/sw-150177'"
      ]
     },
     "execution_count": 126,
     "metadata": {},
     "output_type": "execute_result"
    }
   ],
   "source": [
    "#Some Tests\n",
    "\n",
    "#Make general textual query and retrieve the DOI\n",
    "query_txt = \"Constantin, A., Peroni, S., Pettifer, S., Shotton, D., Vitali, F. (in press). The Document Components Ontology (DoCO). To appear in Semantic Web – Interoperability, Usability, Applicability. Amsterdam, The Netherlands: IOS Press.\"\n",
    "#The DOI is: 10.3233/SW-150177\n",
    "find_work(query_txt)['DOI']\n"
   ]
  },
  {
   "cell_type": "code",
   "execution_count": 130,
   "metadata": {
    "collapsed": false,
    "scrolled": true
   },
   "outputs": [
    {
     "name": "stdout",
     "output_type": "stream",
     "text": [
      "http://api.crossref.org/works?rows=1&query=Attwood+2010+Utopia+documents%3A+linking+scholarly+literature+with+research+data+Bioinformatics+26+i568+\n"
     ]
    },
    {
     "data": {
      "text/plain": [
       "'10.1093/bioinformatics/btq383'"
      ]
     },
     "execution_count": 130,
     "metadata": {},
     "output_type": "execute_result"
    }
   ],
   "source": [
    "#A sample of work references\n",
    "reference = {\"reference\": [\n",
    "          {\n",
    "            \"issue\": \"18\",\n",
    "            \"key\": \"10.3233/SW-150177_ref1\",\n",
    "            \"doi-asserted-by\": \"crossref\",\n",
    "            \"first-page\": \"i568\",\n",
    "            \"DOI\": \"10.1093/bioinformatics/btq383\",\n",
    "            \"article-title\": \"Utopia documents: linking scholarly literature with research data\",\n",
    "            \"volume\": \"26\",\n",
    "            \"author\": \"Attwood\",\n",
    "            \"year\": \"2010\",\n",
    "            \"journal-title\": \"Bioinformatics\"\n",
    "          },\n",
    "          {\n",
    "            \"issue\": \"6\",\n",
    "            \"key\": \"10.3233/SW-150177_ref5\",\n",
    "            \"first-page\": \"515\",\n",
    "            \"article-title\": \"The collections ontology: creating and handling collections in OWL 2 DL frameworks\",\n",
    "            \"volume\": \"5\",\n",
    "            \"author\": \"Ciccarese\",\n",
    "            \"year\": \"2014\",\n",
    "            \"journal-title\": \"Semantic Web – Interoperability, Usability, Applicability\"\n",
    "          },\n",
    "        ]\n",
    "}\n",
    "first_ref = reference['reference'][0];\n",
    "query_text = build_bibc(first_ref)\n",
    "find_work(query_text)['DOI']"
   ]
  },
  {
   "cell_type": "code",
   "execution_count": 66,
   "metadata": {
    "collapsed": false
   },
   "outputs": [
    {
     "name": "stdout",
     "output_type": "stream",
     "text": [
      "2012-03-01\n"
     ]
    }
   ],
   "source": [
    "#test the date\n",
    "date_val = datetime.date(2012, 3, 1)\n",
    "print(date_val.strftime('%Y-%m-%d'))"
   ]
  },
  {
   "cell_type": "code",
   "execution_count": 69,
   "metadata": {
    "collapsed": false
   },
   "outputs": [
    {
     "data": {
      "text/plain": [
       "'0200100370302030336283263010500010707'"
      ]
     },
     "execution_count": 69,
     "metadata": {},
     "output_type": "execute_result"
    }
   ],
   "source": [
    "init_lookup_dic()\n",
    "convert_doi_to_ci('10.3233/sw-150177') "
   ]
  },
  {
   "cell_type": "code",
   "execution_count": null,
   "metadata": {
    "collapsed": true
   },
   "outputs": [],
   "source": []
  }
 ],
 "metadata": {
  "anaconda-cloud": {},
  "kernelspec": {
   "display_name": "Python [conda env:py35]",
   "language": "python",
   "name": "conda-env-py35-py"
  },
  "language_info": {
   "codemirror_mode": {
    "name": "ipython",
    "version": 3
   },
   "file_extension": ".py",
   "mimetype": "text/x-python",
   "name": "python",
   "nbconvert_exporter": "python",
   "pygments_lexer": "ipython3",
   "version": "3.5.2"
  }
 },
 "nbformat": 4,
 "nbformat_minor": 2
}
